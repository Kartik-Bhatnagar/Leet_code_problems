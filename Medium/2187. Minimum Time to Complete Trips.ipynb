{
 "cells": [
  {
   "cell_type": "code",
   "execution_count": 38,
   "id": "4114335d",
   "metadata": {},
   "outputs": [],
   "source": [
    "def tt(time,tot_trip):\n",
    "    count,sum_trip =1,0\n",
    "    \n",
    "    while (sum_trip<tot_trip):\n",
    "            sum_trip = (sum([count//t for t in time]))\n",
    "            print(sum_trip)\n",
    "            count +=1\n",
    "            \n",
    "    print(\"ans :\",count-1)       "
   ]
  },
  {
   "cell_type": "code",
   "execution_count": 53,
   "id": "d27d3622",
   "metadata": {},
   "outputs": [
    {
     "name": "stdout",
     "output_type": "stream",
     "text": [
      "1\n",
      "3\n",
      "5\n",
      "ans : 3\n",
      "Wall time: 0 ns\n"
     ]
    }
   ],
   "source": [
    "tt([1,2,3],5)"
   ]
  },
  {
   "cell_type": "code",
   "execution_count": 40,
   "id": "b3b924f0",
   "metadata": {},
   "outputs": [
    {
     "name": "stdout",
     "output_type": "stream",
     "text": [
      "0\n",
      "1\n",
      "ans : 2\n"
     ]
    }
   ],
   "source": [
    "tt([2],1)"
   ]
  },
  {
   "cell_type": "markdown",
   "id": "2211eedd",
   "metadata": {},
   "source": [
    "#### try 2"
   ]
  },
  {
   "cell_type": "code",
   "execution_count": 66,
   "id": "fd775f0a",
   "metadata": {},
   "outputs": [],
   "source": [
    "def tt2(time,tot_trip):\n",
    "    count,sum_trip =min(time),0\n",
    "    while (sum_trip<tot_trip):\n",
    "            sum_trip = (sum([count//t for t in time]))\n",
    "            print(sum_trip)\n",
    "            count +=1\n",
    "            \n",
    "    print(\"ans :\",count-1)  "
   ]
  },
  {
   "cell_type": "code",
   "execution_count": 52,
   "id": "e24403ed",
   "metadata": {},
   "outputs": [
    {
     "name": "stdout",
     "output_type": "stream",
     "text": [
      "1\n",
      "3\n",
      "5\n",
      "ans : 3\n",
      "Wall time: 0 ns\n"
     ]
    }
   ],
   "source": [
    "tt([1,2,3],5)"
   ]
  },
  {
   "cell_type": "code",
   "execution_count": 43,
   "id": "bdd9023c",
   "metadata": {},
   "outputs": [
    {
     "name": "stdout",
     "output_type": "stream",
     "text": [
      "1\n",
      "ans : 2\n"
     ]
    }
   ],
   "source": [
    "tt([2],1)"
   ]
  },
  {
   "cell_type": "code",
   "execution_count": 44,
   "id": "c12d02bd",
   "metadata": {},
   "outputs": [
    {
     "data": {
      "text/plain": [
       "[1, 3, 7, 8]"
      ]
     },
     "execution_count": 44,
     "metadata": {},
     "output_type": "execute_result"
    }
   ],
   "source": [
    "sorted([3,7,1,8])"
   ]
  },
  {
   "cell_type": "markdown",
   "id": "3ab6ef24",
   "metadata": {},
   "source": [
    "#### try3"
   ]
  },
  {
   "cell_type": "code",
   "execution_count": 99,
   "id": "641c5608",
   "metadata": {},
   "outputs": [],
   "source": [
    "def tt3(time, totalTrips):\n",
    "    stime =sorted(time)\n",
    "    count,sum_trip =stime[0],0\n",
    "    ite=0\n",
    "    if stime[1]:\n",
    "        ite=stime[1]-stime[0]\n",
    "    while (sum_trip< totalTrips):\n",
    "            #print(\"__\",sum_trip,totalTrips)\n",
    "            sum_trip = (sum([count//t for t in time]))\n",
    "            print(sum_trip)\n",
    "            count +=ite\n",
    "            \n",
    "            \n",
    "    print(\"ans :\",count-ite) "
   ]
  },
  {
   "cell_type": "code",
   "execution_count": 100,
   "id": "7a0376e5",
   "metadata": {},
   "outputs": [
    {
     "name": "stdout",
     "output_type": "stream",
     "text": [
      "1\n",
      "3\n",
      "5\n",
      "ans : 30\n",
      "Wall time: 0 ns\n"
     ]
    }
   ],
   "source": [
    "%%time\n",
    "tt3([10,20,30],5)"
   ]
  },
  {
   "cell_type": "code",
   "execution_count": 101,
   "id": "fd8d4a44",
   "metadata": {},
   "outputs": [
    {
     "name": "stdout",
     "output_type": "stream",
     "text": [
      "1\n",
      "1\n",
      "1\n",
      "1\n",
      "1\n",
      "4\n",
      "4\n",
      "4\n",
      "4\n",
      "4\n",
      "5\n",
      "5\n",
      "5\n",
      "5\n",
      "5\n",
      "8\n",
      "8\n",
      "8\n",
      "8\n",
      "8\n",
      "9\n",
      "ans : 25\n"
     ]
    }
   ],
   "source": [
    "tt2([5,10,10],9)"
   ]
  },
  {
   "cell_type": "code",
   "execution_count": null,
   "id": "bdae3a65",
   "metadata": {},
   "outputs": [],
   "source": []
  }
 ],
 "metadata": {
  "kernelspec": {
   "display_name": "Python 3 (ipykernel)",
   "language": "python",
   "name": "python3"
  },
  "language_info": {
   "codemirror_mode": {
    "name": "ipython",
    "version": 3
   },
   "file_extension": ".py",
   "mimetype": "text/x-python",
   "name": "python",
   "nbconvert_exporter": "python",
   "pygments_lexer": "ipython3",
   "version": "3.9.13"
  }
 },
 "nbformat": 4,
 "nbformat_minor": 5
}
